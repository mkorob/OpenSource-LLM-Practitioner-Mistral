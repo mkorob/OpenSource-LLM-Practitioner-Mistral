{
 "cells": [
  {
   "cell_type": "code",
   "execution_count": 1,
   "metadata": {},
   "outputs": [],
   "source": [
    "#ran with llm_comparisons new\n",
    "import pandas as pd\n",
    "import os"
   ]
  },
  {
   "cell_type": "code",
   "execution_count": 2,
   "metadata": {},
   "outputs": [],
   "source": [
    "# Load the dataset and filename\n",
    "dataset_task_mappings = pd.read_csv(\"../../dataset_task_mappings.csv\", encoding='unicode_escape')"
   ]
  },
  {
   "cell_type": "code",
   "execution_count": 3,
   "metadata": {},
   "outputs": [
    {
     "name": "stdout",
     "output_type": "stream",
     "text": [
      "Processing dataset 1\n",
      "Index(['status_id', 'Date', 'text', 'relevant_paula', 'relevant_fabio',\n",
      "       'problem_frame_paula', 'problem_frame_fabio', 'solution_frame_paula',\n",
      "       'solution_frame_fabio', 'relevance_agreement_check',\n",
      "       'problem_solution_agreement_check', 'problem_solution_ra'],\n",
      "      dtype='object')\n",
      "problem_solution_ra\n",
      "Neither     1462\n",
      "Solution     339\n",
      "Problem      200\n",
      "Both         141\n",
      "Name: count, dtype: int64\n",
      "Dataset has 1754 rows. 388 duplicates were removed\n",
      "Processing dataset 2\n",
      "Index(['user_id', 'screen_name', 'status_id', 'created_at', 'text',\n",
      "       'relevant_fabio', 'relevant_paula', 'problem_frame_fabio',\n",
      "       'problem_frame_paula', 'solution_frame_fabio', 'solution_frame_paula',\n",
      "       'relevance_agreement_check', 'problem_solution_agreement_check',\n",
      "       'problem_solution_ra'],\n",
      "      dtype='object')\n",
      "problem_solution_ra\n",
      "Neither     676\n",
      "Solution     85\n",
      "Problem      64\n",
      "Name: count, dtype: int64\n",
      "Dataset has 819 rows. 6 duplicates were removed\n",
      "Processing dataset 3\n",
      "Index(['id', 'pubdatetime', 'publication_name', 'title_h1', 'text_200',\n",
      "       'relevant_paula', 'relevant_fabio', 'problem_frame_paula',\n",
      "       'problem_frame_fabio', 'solution_frame_paula', 'solution_frame_fabio',\n",
      "       'relevance_agreement_check', 'problem_solution_agreement_check',\n",
      "       'problem_solution_ra'],\n",
      "      dtype='object')\n",
      "problem_solution_ra\n",
      "Neither     1123\n",
      "Solution     251\n",
      "Problem      110\n",
      "Both          48\n",
      "Name: count, dtype: int64\n",
      "Dataset has 1523 rows. 9 duplicates were removed\n",
      "Processing dataset 4\n",
      "Index(['id', 'urn', 'pubDateTime', 'title', 'text_250', 'relevant_dina',\n",
      "       'problem_frame_dina', 'solution_frame_dina', 'relevant_fabio',\n",
      "       'problem_frame_fabio', 'solution_frame_fabio', 'relevance_check',\n",
      "       'relevance_ra', 'text', 'problem_check', 'solution_check',\n",
      "       'problem_frame_ra', 'solution_frame_ra', 'frames_ra'],\n",
      "      dtype='object')\n",
      "frames_ra\n",
      "Neither     215\n",
      "Solution    171\n",
      "Problem     145\n",
      "Both         20\n",
      "Name: count, dtype: int64\n",
      "Dataset has 539 rows. 12 duplicates were removed\n"
     ]
    }
   ],
   "source": [
    "datasets = [1, 2, 3, 4]\n",
    "task  = 2\n",
    "test_size = 0.2\n",
    "df_out = pd.DataFrame()\n",
    "for dataset in datasets:\n",
    "    print(f\"Processing dataset {dataset}\")\n",
    "    #check which mappings to import\n",
    "    dataset_idx = dataset_task_mappings.index[\n",
    "        (dataset_task_mappings[\"dataset_number\"] == dataset) & (dataset_task_mappings[\"task_number\"] == task)]\n",
    "    label_column = dataset_task_mappings.loc[dataset_idx, \"label_column\"].values[0]\n",
    "    #CHECK THIS LATER - for some reason need to add[0] because it is recognizing an array, but didn't need to do before - some package versioning issue?\n",
    "    df = pd.read_csv(os.path.join(\"../../data\", dataset_task_mappings.loc[dataset_idx, \"dataset_filename\"].values[0]))\n",
    "    print(df.columns)\n",
    "    df = df.dropna(subset=[label_column])\n",
    "    \n",
    "    #print the distirbution of values\n",
    "    print(df[label_column].value_counts())\n",
    "\n",
    "    if dataset == 3:\n",
    "        df['text'] = df['title_h1'] + ' ' + df['text_200']\n",
    "\n",
    "    if dataset == 4:\n",
    "        df['text'] = df['title'] + ' ' + df['text_250']\n",
    "        df['problem_solution_ra'] = df[label_column]\n",
    "\n",
    "    #remove duplicates - before and after merging\n",
    "    n_rows_before_deduplication = len(df)\n",
    "    df = df.drop_duplicates(subset=['text', 'problem_solution_ra'])\n",
    "    print(f\"Dataset has {len(df)} rows. {n_rows_before_deduplication - len(df)} duplicates were removed\")\n",
    "\n",
    "    #make column of dataset for validation\n",
    "    df['dataset'] = dataset\n",
    "\n",
    "    #append the dataframe\n",
    "    df_out = pd.concat([df_out, df[['dataset', 'text', 'problem_solution_ra']]])"
   ]
  },
  {
   "cell_type": "code",
   "execution_count": 4,
   "metadata": {},
   "outputs": [
    {
     "data": {
      "text/plain": [
       "problem_solution_ra\n",
       "Neither     3306\n",
       "Solution     757\n",
       "Problem      492\n",
       "Both          80\n",
       "Name: count, dtype: int64"
      ]
     },
     "execution_count": 4,
     "metadata": {},
     "output_type": "execute_result"
    }
   ],
   "source": [
    "df_out['problem_solution_ra'].value_counts()"
   ]
  },
  {
   "cell_type": "code",
   "execution_count": 5,
   "metadata": {},
   "outputs": [],
   "source": [
    "duplicate_check = df_out.groupby(['text']).count().reset_index()"
   ]
  },
  {
   "cell_type": "code",
   "execution_count": 6,
   "metadata": {},
   "outputs": [
    {
     "data": {
      "text/plain": [
       "array([\"Congressman demands Facebook's #Zuckerberg explain why Donald #Trump Jr's TWITTER ACCOUNT was suspended\\r\\n\\r\\nMORE: https://t.co/HlJqGEB2Sk https://t.co/1MPtbY75Pd\",\n",
       "       \"Hindustani Bhau's account was suspended. So Amaal Mallik and Bhai fans are working overtime to maintain the balance of gaalis in the universe.\",\n",
       "       'Someone is trying to ban my Instagram account because they stole my art and did not credit me for my art , What the actual fck, they have been harassing me for 2 weeks https://t.co/Jpnk06IU0E',\n",
       "       'Twitter vaccine myths crackdown overdue When I was little, I was fond of a book called Girls Can Be Anything. It is about two friends. Adam insists only boys can be pilots and doctors, and Marina sets out to prove him wrong. When Adam\\'s preposterous boast every U.S. president has been a man turns out to be true, Marina resolves to become the first female president.\\r\\n\\r\\n\"This is the book that made me a feminist,\" begins a review on Goodreads.com, which captures my feelings.\\r\\n\\r\\nThe cherished 1973 children\\'s story by Norma Klein helped lay the foundation, but the book that cemented my identity as an unapologetic feminist was Naomi Wolf\\'s The Beauty Myth. Her polemic awakened me to the crippling strictures of the male gaze, and its pervasive impact in the workforce and on campus. I developed strong opinions about high heels, and saying yes to dessert.\\r\\n\\r\\nThe impact of her work was not isolated. The Beauty Myth was listed among the New York Times\\'70 most influential books of the 20th century. Wolf was celebrated as a pioneer of third-wave feminism.\\r\\n\\r\\nAny lingering feelings of hero worship crashed hard last week when Wolf was suspended by Twitter, after using the platform to spread misinformation about vaccines.\\r\\n\\r\\nIt\\'s become clear the'],\n",
       "      dtype=object)"
      ]
     },
     "execution_count": 6,
     "metadata": {},
     "output_type": "execute_result"
    }
   ],
   "source": [
    "duplicate_check.loc[duplicate_check['dataset'] > 1, 'text'].values"
   ]
  },
  {
   "cell_type": "code",
   "execution_count": 7,
   "metadata": {},
   "outputs": [
    {
     "data": {
      "text/html": [
       "<div>\n",
       "<style scoped>\n",
       "    .dataframe tbody tr th:only-of-type {\n",
       "        vertical-align: middle;\n",
       "    }\n",
       "\n",
       "    .dataframe tbody tr th {\n",
       "        vertical-align: top;\n",
       "    }\n",
       "\n",
       "    .dataframe thead th {\n",
       "        text-align: right;\n",
       "    }\n",
       "</style>\n",
       "<table border=\"1\" class=\"dataframe\">\n",
       "  <thead>\n",
       "    <tr style=\"text-align: right;\">\n",
       "      <th></th>\n",
       "      <th>dataset</th>\n",
       "      <th>text</th>\n",
       "      <th>problem_solution_ra</th>\n",
       "    </tr>\n",
       "  </thead>\n",
       "  <tbody>\n",
       "    <tr>\n",
       "      <th>235</th>\n",
       "      <td>1</td>\n",
       "      <td>Hindustani Bhau's account was suspended. So Am...</td>\n",
       "      <td>Neither</td>\n",
       "    </tr>\n",
       "    <tr>\n",
       "      <th>242</th>\n",
       "      <td>1</td>\n",
       "      <td>Someone is trying to ban my Instagram account ...</td>\n",
       "      <td>Problem</td>\n",
       "    </tr>\n",
       "    <tr>\n",
       "      <th>940</th>\n",
       "      <td>1</td>\n",
       "      <td>Hindustani Bhau's account was suspended. So Am...</td>\n",
       "      <td>Problem</td>\n",
       "    </tr>\n",
       "    <tr>\n",
       "      <th>1217</th>\n",
       "      <td>1</td>\n",
       "      <td>Congressman demands Facebook's #Zuckerberg exp...</td>\n",
       "      <td>Neither</td>\n",
       "    </tr>\n",
       "    <tr>\n",
       "      <th>1583</th>\n",
       "      <td>1</td>\n",
       "      <td>Someone is trying to ban my Instagram account ...</td>\n",
       "      <td>Neither</td>\n",
       "    </tr>\n",
       "    <tr>\n",
       "      <th>2324</th>\n",
       "      <td>1</td>\n",
       "      <td>Congressman demands Facebook's #Zuckerberg exp...</td>\n",
       "      <td>Problem</td>\n",
       "    </tr>\n",
       "    <tr>\n",
       "      <th>119</th>\n",
       "      <td>3</td>\n",
       "      <td>Twitter vaccine myths crackdown overdue When I...</td>\n",
       "      <td>Solution</td>\n",
       "    </tr>\n",
       "    <tr>\n",
       "      <th>1224</th>\n",
       "      <td>3</td>\n",
       "      <td>Twitter vaccine myths crackdown overdue When I...</td>\n",
       "      <td>Neither</td>\n",
       "    </tr>\n",
       "  </tbody>\n",
       "</table>\n",
       "</div>"
      ],
      "text/plain": [
       "      dataset                                               text  \\\n",
       "235         1  Hindustani Bhau's account was suspended. So Am...   \n",
       "242         1  Someone is trying to ban my Instagram account ...   \n",
       "940         1  Hindustani Bhau's account was suspended. So Am...   \n",
       "1217        1  Congressman demands Facebook's #Zuckerberg exp...   \n",
       "1583        1  Someone is trying to ban my Instagram account ...   \n",
       "2324        1  Congressman demands Facebook's #Zuckerberg exp...   \n",
       "119         3  Twitter vaccine myths crackdown overdue When I...   \n",
       "1224        3  Twitter vaccine myths crackdown overdue When I...   \n",
       "\n",
       "     problem_solution_ra  \n",
       "235              Neither  \n",
       "242              Problem  \n",
       "940              Problem  \n",
       "1217             Neither  \n",
       "1583             Neither  \n",
       "2324             Problem  \n",
       "119             Solution  \n",
       "1224             Neither  "
      ]
     },
     "execution_count": 7,
     "metadata": {},
     "output_type": "execute_result"
    }
   ],
   "source": [
    "df_out[df_out['text'].isin(duplicate_check.loc[duplicate_check['dataset'] > 1, 'text'].values)]"
   ]
  },
  {
   "cell_type": "code",
   "execution_count": 8,
   "metadata": {},
   "outputs": [],
   "source": [
    "df_out = df_out[~df_out['text'].isin(duplicate_check.loc[duplicate_check['dataset'] > 1, 'text'].values)]"
   ]
  },
  {
   "cell_type": "code",
   "execution_count": 9,
   "metadata": {},
   "outputs": [
    {
     "data": {
      "text/html": [
       "<div>\n",
       "<style scoped>\n",
       "    .dataframe tbody tr th:only-of-type {\n",
       "        vertical-align: middle;\n",
       "    }\n",
       "\n",
       "    .dataframe tbody tr th {\n",
       "        vertical-align: top;\n",
       "    }\n",
       "\n",
       "    .dataframe thead th {\n",
       "        text-align: right;\n",
       "    }\n",
       "</style>\n",
       "<table border=\"1\" class=\"dataframe\">\n",
       "  <thead>\n",
       "    <tr style=\"text-align: right;\">\n",
       "      <th></th>\n",
       "      <th>text</th>\n",
       "      <th>problem_solution_ra</th>\n",
       "    </tr>\n",
       "    <tr>\n",
       "      <th>dataset</th>\n",
       "      <th></th>\n",
       "      <th></th>\n",
       "    </tr>\n",
       "  </thead>\n",
       "  <tbody>\n",
       "    <tr>\n",
       "      <th>1</th>\n",
       "      <td>1748</td>\n",
       "      <td>1748</td>\n",
       "    </tr>\n",
       "    <tr>\n",
       "      <th>2</th>\n",
       "      <td>819</td>\n",
       "      <td>819</td>\n",
       "    </tr>\n",
       "    <tr>\n",
       "      <th>3</th>\n",
       "      <td>1518</td>\n",
       "      <td>1521</td>\n",
       "    </tr>\n",
       "    <tr>\n",
       "      <th>4</th>\n",
       "      <td>536</td>\n",
       "      <td>539</td>\n",
       "    </tr>\n",
       "  </tbody>\n",
       "</table>\n",
       "</div>"
      ],
      "text/plain": [
       "         text  problem_solution_ra\n",
       "dataset                           \n",
       "1        1748                 1748\n",
       "2         819                  819\n",
       "3        1518                 1521\n",
       "4         536                  539"
      ]
     },
     "execution_count": 9,
     "metadata": {},
     "output_type": "execute_result"
    }
   ],
   "source": [
    "#split into train and test\n",
    "df_out.groupby('dataset').count()"
   ]
  },
  {
   "cell_type": "code",
   "execution_count": 10,
   "metadata": {},
   "outputs": [
    {
     "data": {
      "text/html": [
       "<div>\n",
       "<style scoped>\n",
       "    .dataframe tbody tr th:only-of-type {\n",
       "        vertical-align: middle;\n",
       "    }\n",
       "\n",
       "    .dataframe tbody tr th {\n",
       "        vertical-align: top;\n",
       "    }\n",
       "\n",
       "    .dataframe thead th {\n",
       "        text-align: right;\n",
       "    }\n",
       "</style>\n",
       "<table border=\"1\" class=\"dataframe\">\n",
       "  <thead>\n",
       "    <tr style=\"text-align: right;\">\n",
       "      <th></th>\n",
       "      <th>dataset</th>\n",
       "      <th>text</th>\n",
       "    </tr>\n",
       "    <tr>\n",
       "      <th>problem_solution_ra</th>\n",
       "      <th></th>\n",
       "      <th></th>\n",
       "    </tr>\n",
       "  </thead>\n",
       "  <tbody>\n",
       "    <tr>\n",
       "      <th>Both</th>\n",
       "      <td>80</td>\n",
       "      <td>79</td>\n",
       "    </tr>\n",
       "    <tr>\n",
       "      <th>Neither</th>\n",
       "      <td>3302</td>\n",
       "      <td>3300</td>\n",
       "    </tr>\n",
       "    <tr>\n",
       "      <th>Problem</th>\n",
       "      <td>489</td>\n",
       "      <td>488</td>\n",
       "    </tr>\n",
       "    <tr>\n",
       "      <th>Solution</th>\n",
       "      <td>756</td>\n",
       "      <td>754</td>\n",
       "    </tr>\n",
       "  </tbody>\n",
       "</table>\n",
       "</div>"
      ],
      "text/plain": [
       "                     dataset  text\n",
       "problem_solution_ra               \n",
       "Both                      80    79\n",
       "Neither                 3302  3300\n",
       "Problem                  489   488\n",
       "Solution                 756   754"
      ]
     },
     "execution_count": 10,
     "metadata": {},
     "output_type": "execute_result"
    }
   ],
   "source": [
    "df_out.groupby('problem_solution_ra').count()"
   ]
  },
  {
   "cell_type": "code",
   "execution_count": 11,
   "metadata": {},
   "outputs": [],
   "source": [
    "df_out = df_out.reset_index(drop = True)"
   ]
  },
  {
   "cell_type": "code",
   "execution_count": 12,
   "metadata": {},
   "outputs": [],
   "source": [
    "from sklearn.model_selection import StratifiedShuffleSplit\n",
    "\n",
    "# Create a combined stratification label\n",
    "df_out['stratify_label'] = df_out['dataset'].astype(str) + '_' + df_out['problem_solution_ra']\n",
    "\n",
    "# Initialize StratifiedShuffleSplit\n",
    "stratified_split = StratifiedShuffleSplit(n_splits=1, test_size=0.2, random_state=42)\n",
    "\n",
    "# Perform split\n",
    "for train_index, test_index in stratified_split.split(df_out, df_out['stratify_label']):\n",
    "    train_set = df_out.loc[train_index]\n",
    "    test_set = df_out.loc[test_index]\n",
    "\n",
    "# Drop the temporary stratify_label column\n",
    "test_set = test_set.drop(columns=['stratify_label'])"
   ]
  },
  {
   "cell_type": "code",
   "execution_count": 13,
   "metadata": {},
   "outputs": [
    {
     "data": {
      "text/html": [
       "<div>\n",
       "<style scoped>\n",
       "    .dataframe tbody tr th:only-of-type {\n",
       "        vertical-align: middle;\n",
       "    }\n",
       "\n",
       "    .dataframe tbody tr th {\n",
       "        vertical-align: top;\n",
       "    }\n",
       "\n",
       "    .dataframe thead th {\n",
       "        text-align: right;\n",
       "    }\n",
       "</style>\n",
       "<table border=\"1\" class=\"dataframe\">\n",
       "  <thead>\n",
       "    <tr style=\"text-align: right;\">\n",
       "      <th></th>\n",
       "      <th>text</th>\n",
       "      <th>problem_solution_ra</th>\n",
       "      <th>stratify_label</th>\n",
       "    </tr>\n",
       "    <tr>\n",
       "      <th>dataset</th>\n",
       "      <th></th>\n",
       "      <th></th>\n",
       "      <th></th>\n",
       "    </tr>\n",
       "  </thead>\n",
       "  <tbody>\n",
       "    <tr>\n",
       "      <th>1</th>\n",
       "      <td>1399</td>\n",
       "      <td>1399</td>\n",
       "      <td>1399</td>\n",
       "    </tr>\n",
       "    <tr>\n",
       "      <th>2</th>\n",
       "      <td>655</td>\n",
       "      <td>655</td>\n",
       "      <td>655</td>\n",
       "    </tr>\n",
       "    <tr>\n",
       "      <th>3</th>\n",
       "      <td>1213</td>\n",
       "      <td>1216</td>\n",
       "      <td>1216</td>\n",
       "    </tr>\n",
       "    <tr>\n",
       "      <th>4</th>\n",
       "      <td>428</td>\n",
       "      <td>431</td>\n",
       "      <td>431</td>\n",
       "    </tr>\n",
       "  </tbody>\n",
       "</table>\n",
       "</div>"
      ],
      "text/plain": [
       "         text  problem_solution_ra  stratify_label\n",
       "dataset                                           \n",
       "1        1399                 1399            1399\n",
       "2         655                  655             655\n",
       "3        1213                 1216            1216\n",
       "4         428                  431             431"
      ]
     },
     "execution_count": 13,
     "metadata": {},
     "output_type": "execute_result"
    }
   ],
   "source": [
    "train_set.groupby('dataset').count()"
   ]
  },
  {
   "cell_type": "code",
   "execution_count": 14,
   "metadata": {},
   "outputs": [
    {
     "data": {
      "text/html": [
       "<div>\n",
       "<style scoped>\n",
       "    .dataframe tbody tr th:only-of-type {\n",
       "        vertical-align: middle;\n",
       "    }\n",
       "\n",
       "    .dataframe tbody tr th {\n",
       "        vertical-align: top;\n",
       "    }\n",
       "\n",
       "    .dataframe thead th {\n",
       "        text-align: right;\n",
       "    }\n",
       "</style>\n",
       "<table border=\"1\" class=\"dataframe\">\n",
       "  <thead>\n",
       "    <tr style=\"text-align: right;\">\n",
       "      <th></th>\n",
       "      <th>dataset</th>\n",
       "      <th>text</th>\n",
       "      <th>stratify_label</th>\n",
       "    </tr>\n",
       "    <tr>\n",
       "      <th>problem_solution_ra</th>\n",
       "      <th></th>\n",
       "      <th></th>\n",
       "      <th></th>\n",
       "    </tr>\n",
       "  </thead>\n",
       "  <tbody>\n",
       "    <tr>\n",
       "      <th>Both</th>\n",
       "      <td>64</td>\n",
       "      <td>63</td>\n",
       "      <td>64</td>\n",
       "    </tr>\n",
       "    <tr>\n",
       "      <th>Neither</th>\n",
       "      <td>2641</td>\n",
       "      <td>2639</td>\n",
       "      <td>2641</td>\n",
       "    </tr>\n",
       "    <tr>\n",
       "      <th>Problem</th>\n",
       "      <td>391</td>\n",
       "      <td>390</td>\n",
       "      <td>391</td>\n",
       "    </tr>\n",
       "    <tr>\n",
       "      <th>Solution</th>\n",
       "      <td>605</td>\n",
       "      <td>603</td>\n",
       "      <td>605</td>\n",
       "    </tr>\n",
       "  </tbody>\n",
       "</table>\n",
       "</div>"
      ],
      "text/plain": [
       "                     dataset  text  stratify_label\n",
       "problem_solution_ra                               \n",
       "Both                      64    63              64\n",
       "Neither                 2641  2639            2641\n",
       "Problem                  391   390             391\n",
       "Solution                 605   603             605"
      ]
     },
     "execution_count": 14,
     "metadata": {},
     "output_type": "execute_result"
    }
   ],
   "source": [
    "train_set.groupby('problem_solution_ra').count()"
   ]
  },
  {
   "cell_type": "code",
   "execution_count": 15,
   "metadata": {},
   "outputs": [
    {
     "data": {
      "text/html": [
       "<div>\n",
       "<style scoped>\n",
       "    .dataframe tbody tr th:only-of-type {\n",
       "        vertical-align: middle;\n",
       "    }\n",
       "\n",
       "    .dataframe tbody tr th {\n",
       "        vertical-align: top;\n",
       "    }\n",
       "\n",
       "    .dataframe thead th {\n",
       "        text-align: right;\n",
       "    }\n",
       "</style>\n",
       "<table border=\"1\" class=\"dataframe\">\n",
       "  <thead>\n",
       "    <tr style=\"text-align: right;\">\n",
       "      <th></th>\n",
       "      <th></th>\n",
       "      <th>text</th>\n",
       "    </tr>\n",
       "    <tr>\n",
       "      <th>dataset</th>\n",
       "      <th>problem_solution_ra</th>\n",
       "      <th></th>\n",
       "    </tr>\n",
       "  </thead>\n",
       "  <tbody>\n",
       "    <tr>\n",
       "      <th rowspan=\"4\" valign=\"top\">1</th>\n",
       "      <th>Both</th>\n",
       "      <td>3</td>\n",
       "    </tr>\n",
       "    <tr>\n",
       "      <th>Neither</th>\n",
       "      <td>260</td>\n",
       "    </tr>\n",
       "    <tr>\n",
       "      <th>Problem</th>\n",
       "      <td>35</td>\n",
       "    </tr>\n",
       "    <tr>\n",
       "      <th>Solution</th>\n",
       "      <td>51</td>\n",
       "    </tr>\n",
       "    <tr>\n",
       "      <th rowspan=\"3\" valign=\"top\">2</th>\n",
       "      <th>Neither</th>\n",
       "      <td>135</td>\n",
       "    </tr>\n",
       "    <tr>\n",
       "      <th>Problem</th>\n",
       "      <td>13</td>\n",
       "    </tr>\n",
       "    <tr>\n",
       "      <th>Solution</th>\n",
       "      <td>16</td>\n",
       "    </tr>\n",
       "    <tr>\n",
       "      <th rowspan=\"4\" valign=\"top\">3</th>\n",
       "      <th>Both</th>\n",
       "      <td>9</td>\n",
       "    </tr>\n",
       "    <tr>\n",
       "      <th>Neither</th>\n",
       "      <td>224</td>\n",
       "    </tr>\n",
       "    <tr>\n",
       "      <th>Problem</th>\n",
       "      <td>22</td>\n",
       "    </tr>\n",
       "    <tr>\n",
       "      <th>Solution</th>\n",
       "      <td>50</td>\n",
       "    </tr>\n",
       "    <tr>\n",
       "      <th rowspan=\"4\" valign=\"top\">4</th>\n",
       "      <th>Both</th>\n",
       "      <td>4</td>\n",
       "    </tr>\n",
       "    <tr>\n",
       "      <th>Neither</th>\n",
       "      <td>42</td>\n",
       "    </tr>\n",
       "    <tr>\n",
       "      <th>Problem</th>\n",
       "      <td>28</td>\n",
       "    </tr>\n",
       "    <tr>\n",
       "      <th>Solution</th>\n",
       "      <td>34</td>\n",
       "    </tr>\n",
       "  </tbody>\n",
       "</table>\n",
       "</div>"
      ],
      "text/plain": [
       "                             text\n",
       "dataset problem_solution_ra      \n",
       "1       Both                    3\n",
       "        Neither               260\n",
       "        Problem                35\n",
       "        Solution               51\n",
       "2       Neither               135\n",
       "        Problem                13\n",
       "        Solution               16\n",
       "3       Both                    9\n",
       "        Neither               224\n",
       "        Problem                22\n",
       "        Solution               50\n",
       "4       Both                    4\n",
       "        Neither                42\n",
       "        Problem                28\n",
       "        Solution               34"
      ]
     },
     "execution_count": 15,
     "metadata": {},
     "output_type": "execute_result"
    }
   ],
   "source": [
    "test_set.groupby(['dataset', 'problem_solution_ra']).count()"
   ]
  },
  {
   "cell_type": "code",
   "execution_count": 16,
   "metadata": {},
   "outputs": [],
   "source": [
    "train_set = train_set.reset_index(drop = True)"
   ]
  },
  {
   "cell_type": "code",
   "execution_count": 17,
   "metadata": {},
   "outputs": [],
   "source": [
    "#  StratifiedShuffleSplit by both removes dataset completely because it's not a large enough group\n",
    "stratified_split = StratifiedShuffleSplit(n_splits=1, test_size=0.5, random_state=42)\n",
    "\n",
    "# Perform split\n",
    "for train_index, test_index in stratified_split.split(train_set, train_set['stratify_label']):\n",
    "    train_set_50 = train_set.loc[train_index]\n",
    "\n",
    "train_set_50 = train_set_50.drop(columns=['stratify_label'])\n",
    "train_set = train_set.drop(columns=['stratify_label'])"
   ]
  },
  {
   "cell_type": "code",
   "execution_count": 18,
   "metadata": {},
   "outputs": [
    {
     "data": {
      "text/html": [
       "<div>\n",
       "<style scoped>\n",
       "    .dataframe tbody tr th:only-of-type {\n",
       "        vertical-align: middle;\n",
       "    }\n",
       "\n",
       "    .dataframe tbody tr th {\n",
       "        vertical-align: top;\n",
       "    }\n",
       "\n",
       "    .dataframe thead th {\n",
       "        text-align: right;\n",
       "    }\n",
       "</style>\n",
       "<table border=\"1\" class=\"dataframe\">\n",
       "  <thead>\n",
       "    <tr style=\"text-align: right;\">\n",
       "      <th></th>\n",
       "      <th>text</th>\n",
       "      <th>problem_solution_ra</th>\n",
       "    </tr>\n",
       "    <tr>\n",
       "      <th>dataset</th>\n",
       "      <th></th>\n",
       "      <th></th>\n",
       "    </tr>\n",
       "  </thead>\n",
       "  <tbody>\n",
       "    <tr>\n",
       "      <th>1</th>\n",
       "      <td>700</td>\n",
       "      <td>700</td>\n",
       "    </tr>\n",
       "    <tr>\n",
       "      <th>2</th>\n",
       "      <td>327</td>\n",
       "      <td>327</td>\n",
       "    </tr>\n",
       "    <tr>\n",
       "      <th>3</th>\n",
       "      <td>606</td>\n",
       "      <td>608</td>\n",
       "    </tr>\n",
       "    <tr>\n",
       "      <th>4</th>\n",
       "      <td>214</td>\n",
       "      <td>215</td>\n",
       "    </tr>\n",
       "  </tbody>\n",
       "</table>\n",
       "</div>"
      ],
      "text/plain": [
       "         text  problem_solution_ra\n",
       "dataset                           \n",
       "1         700                  700\n",
       "2         327                  327\n",
       "3         606                  608\n",
       "4         214                  215"
      ]
     },
     "execution_count": 18,
     "metadata": {},
     "output_type": "execute_result"
    }
   ],
   "source": [
    "train_set_50.groupby('dataset').count()"
   ]
  },
  {
   "cell_type": "code",
   "execution_count": 19,
   "metadata": {},
   "outputs": [
    {
     "data": {
      "text/html": [
       "<div>\n",
       "<style scoped>\n",
       "    .dataframe tbody tr th:only-of-type {\n",
       "        vertical-align: middle;\n",
       "    }\n",
       "\n",
       "    .dataframe tbody tr th {\n",
       "        vertical-align: top;\n",
       "    }\n",
       "\n",
       "    .dataframe thead th {\n",
       "        text-align: right;\n",
       "    }\n",
       "</style>\n",
       "<table border=\"1\" class=\"dataframe\">\n",
       "  <thead>\n",
       "    <tr style=\"text-align: right;\">\n",
       "      <th></th>\n",
       "      <th>dataset</th>\n",
       "      <th>text</th>\n",
       "    </tr>\n",
       "    <tr>\n",
       "      <th>problem_solution_ra</th>\n",
       "      <th></th>\n",
       "      <th></th>\n",
       "    </tr>\n",
       "  </thead>\n",
       "  <tbody>\n",
       "    <tr>\n",
       "      <th>Both</th>\n",
       "      <td>33</td>\n",
       "      <td>33</td>\n",
       "    </tr>\n",
       "    <tr>\n",
       "      <th>Neither</th>\n",
       "      <td>1320</td>\n",
       "      <td>1319</td>\n",
       "    </tr>\n",
       "    <tr>\n",
       "      <th>Problem</th>\n",
       "      <td>195</td>\n",
       "      <td>195</td>\n",
       "    </tr>\n",
       "    <tr>\n",
       "      <th>Solution</th>\n",
       "      <td>302</td>\n",
       "      <td>300</td>\n",
       "    </tr>\n",
       "  </tbody>\n",
       "</table>\n",
       "</div>"
      ],
      "text/plain": [
       "                     dataset  text\n",
       "problem_solution_ra               \n",
       "Both                      33    33\n",
       "Neither                 1320  1319\n",
       "Problem                  195   195\n",
       "Solution                 302   300"
      ]
     },
     "execution_count": 19,
     "metadata": {},
     "output_type": "execute_result"
    }
   ],
   "source": [
    "train_set_50.groupby('problem_solution_ra').count()"
   ]
  },
  {
   "cell_type": "code",
   "execution_count": 20,
   "metadata": {},
   "outputs": [
    {
     "data": {
      "text/plain": [
       "3701"
      ]
     },
     "execution_count": 20,
     "metadata": {},
     "output_type": "execute_result"
    }
   ],
   "source": [
    "len(train_set)"
   ]
  },
  {
   "cell_type": "code",
   "execution_count": 21,
   "metadata": {},
   "outputs": [],
   "source": [
    "#export files\n",
    "train_set_50.to_csv(\"../../data/ds_5__t_2_train_set_1850.csv\")\n",
    "train_set.to_csv(\"../../data/ds_5__t_2_train_set_3701.csv\")\n",
    "test_set.to_csv(\"../../data/ds5__t_2_eval_set.csv\")"
   ]
  }
 ],
 "metadata": {
  "kernelspec": {
   "display_name": "llm_comparisons_new",
   "language": "python",
   "name": "python3"
  },
  "language_info": {
   "codemirror_mode": {
    "name": "ipython",
    "version": 3
   },
   "file_extension": ".py",
   "mimetype": "text/x-python",
   "name": "python",
   "nbconvert_exporter": "python",
   "pygments_lexer": "ipython3",
   "version": "3.11.7"
  }
 },
 "nbformat": 4,
 "nbformat_minor": 2
}
