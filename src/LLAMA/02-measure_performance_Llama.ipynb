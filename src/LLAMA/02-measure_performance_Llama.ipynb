{
 "cells": [
  {
   "cell_type": "markdown",
   "id": "dd6aabe2",
   "metadata": {},
   "source": [
    "# Template for Accuracy Calculation for LLaMA-2 and OASST-LLAMA finetuned and zero-shot models"
   ]
  },
  {
   "cell_type": "markdown",
   "id": "c669920b",
   "metadata": {},
   "source": [
    "This script allows you to calculate accuracy scores for the results of fine-tuned and zero-shot models. Especially for zero-shot predictions, you need to re-map the output of the model to match with the labels of the original data to calculate accurate metrics, as the output might add additional words or rephrase the output. If your task is not one of the tasks that we provide, you might need to add the mapping functions yourself by inspecting the output of your predictions (e.g. you can print all the unique combinations of output and original labels to see which categories have been created.) "
   ]
  },
  {
   "cell_type": "markdown",
   "id": "226ff639",
   "metadata": {},
   "source": [
    "### Import all Modules"
   ]
  },
  {
   "cell_type": "code",
   "execution_count": 1,
   "id": "initial_id",
   "metadata": {
    "ExecuteTime": {
     "end_time": "2023-11-26T11:02:57.029559960Z",
     "start_time": "2023-11-26T11:02:56.980647209Z"
    },
    "tags": []
   },
   "outputs": [],
   "source": [
    "import os\n",
    "import re\n",
    "import glob\n",
    "\n",
    "import numpy as np\n",
    "import pandas as pd \n",
    "from IPython.core.display import Markdown\n",
    "\n",
    "\n",
    "from dataload_utils import  load_dataset_task_prompt_mappings\n",
    "from label_utils import plot_count_and_normalized_confusion_matrix, map_label_to_completion"
   ]
  },
  {
   "cell_type": "markdown",
   "id": "407512c4",
   "metadata": {},
   "source": [
    "### Define Utility Functions"
   ]
  },
  {
   "cell_type": "code",
   "execution_count": 3,
   "id": "b435d2bd9d85d543",
   "metadata": {
    "ExecuteTime": {
     "end_time": "2023-11-26T11:02:57.718126471Z",
     "start_time": "2023-11-26T11:02:57.699839020Z"
    },
    "collapsed": false,
    "tags": []
   },
   "outputs": [],
   "source": [
    "def map_outputs_task_1(output):\n",
    "    # Check first if it matches with the start of the sentence\n",
    "    if re.search(r'^(\\s)*RELEVANT', output.strip()):\n",
    "        return 'RELEVANT'\n",
    "    elif re.search(r'^(\\s)*IRRELEVANT', output.strip()):\n",
    "        return 'IRRELEVANT'\n",
    "    elif re.search(r'\\s(RELEVANT|RE|RELEVENT|RELEVAL|relevant|RELEV)', output.strip()):\n",
    "        return 'RELEVANT'\n",
    "    elif re.search(r'IRRELEVANT|IRRELE|does not mention|does not seem to refer ', output.strip()):\n",
    "        return 'IRRELEVANT'\n",
    "    elif output == np.nan or output == 'nan':\n",
    "        return \"NAN\"\n",
    "    else:\n",
    "        print(f'Weird value: {output.strip()}')\n",
    "        return \"NAN\""
   ]
  },
  {
   "cell_type": "code",
   "execution_count": null,
   "id": "b3b53282",
   "metadata": {},
   "outputs": [],
   "source": [
    "def map_outputs_task_2(output):\n",
    "    if re.search(r'^(\\s)*PROBLEM', output.strip()):\n",
    "        return 'PROBLEM'\n",
    "    elif re.search(r'^(\\s)*SOLUTION', output.strip()):\n",
    "        return 'SOLUTION'\n",
    "    elif re.search(r'^(\\s)*(NEITHER|NEUTRAL)|Therefore, I would classify this tweet as NEUTRAL|I think it is NEUTRAL', output.strip()):\n",
    "        return 'NEUTRAL'\n",
    "\n",
    "    elif re.search(r'PROBLEM|(t|T)he tweet describes content moderation as a problem|'\n",
    "                 r'described as a problem', output.strip()):\n",
    "        return 'PROBLEM'\n",
    "    elif re.search(r'SOLUTION', output.strip()):\n",
    "        return 'SOLUTION'\n",
    "    elif re.search(r'(NEITHER|NEUTRAL|NE|neutral)', output.strip()):\n",
    "        return 'NEUTRAL'\n",
    "    elif output == np.nan or output == 'nan':\n",
    "        return \"NAN\"\n",
    "    else:\n",
    "        print(f'Weird value: {output.strip()}')\n",
    "        return \"NAN\""
   ]
  },
  {
   "cell_type": "code",
   "execution_count": 4,
   "id": "9c8049d7bdde4352",
   "metadata": {
    "ExecuteTime": {
     "end_time": "2023-11-26T11:07:49.577827700Z",
     "start_time": "2023-11-26T11:07:49.500884019Z"
    },
    "collapsed": false,
    "tags": []
   },
   "outputs": [],
   "source": [
    "def map_outputs_task_3(output):\n",
    "    if re.search(r'^(\\s*A:){0,1}(\\s)*ECONOMY', output.strip()):\n",
    "        return 'ECONOMY'\n",
    "\n",
    "    elif re.search(r'^(\\s*B:){0,1}(\\s)*MORALITY', output.strip()):\n",
    "        return 'MORALITY'\n",
    "\n",
    "    elif re.search(r'^(\\s*C:){0,1}(\\s)*FAIRNESS AND EQUALITY', output.strip()):\n",
    "        return 'FAIRNESS AND EQUALITY'\n",
    "\n",
    "    elif re.search(r'^(\\s*D:){0,1}(\\s)*POLICY PRESCRIPTION AND EVALUATION', output.strip()):\n",
    "        return 'POLICY PRESCRIPTION AND EVALUATION'\n",
    "\n",
    "    elif re.search(r'^(\\s*E:){0,1}(\\s)*LAW AND ORDER, CRIME AND JUSTICE', output.strip()):\n",
    "        return 'LAW AND ORDER, CRIME AND JUSTICE'\n",
    "\n",
    "    elif re.search(r'^(\\s*F:){0,1}(\\s)*SECURITY AND DEFENSE', output.strip()):\n",
    "        return 'SECURITY AND DEFENSE'\n",
    "\n",
    "    elif re.search(r'^(\\s*G:){0,1}(\\s)*HEALTH AND SAFETY', output.strip()):\n",
    "        return 'HEALTH AND SAFETY'\n",
    "\n",
    "    elif re.search(r'^(\\s*H:){0,1}(\\s)*QUALITY OF LIFE', output.strip()):\n",
    "        return 'QUALITY OF LIFE'\n",
    "\n",
    "    elif re.search(r'^(\\s*I:){0,1}(\\s)*POLITICAL', output.strip()):\n",
    "        return 'POLITICAL'\n",
    "\n",
    "    elif re.search(r'^(\\s*J:){0,1}(\\s)*EXTERNAL REGULATION AND REPUTATION', output.strip()):\n",
    "        return 'EXTERNAL REGULATION AND REPUTATION'\n",
    "\n",
    "    elif re.search(r'^(\\s*K:){0,1}(\\s)*OTHER', output.strip()):\n",
    "        return 'OTHER'\n",
    "    \n",
    "    elif re.search(r'(\\s*A:){0,1}(\\s)*ECONOMY|^\\s*A|ECONEY', output.strip()):\n",
    "        return 'ECONOMY'\n",
    "\n",
    "    elif re.search(r'(\\s*B:){0,1}(\\s)*MORALITY|^\\s*B(\\s+|$)', output.strip()):\n",
    "        return 'MORALITY'\n",
    "\n",
    "    elif re.search(r'(\\s*C:){0,1}(\\s)*FAIRNESS AND EQUALITY|EQUALITY AND FAIRNESS|FAIRNESS|It is concerned with the fairness and equality', output.strip()):\n",
    "        return 'FAIRNESS AND EQUALITY'\n",
    "\n",
    "    elif re.search(r'(\\s*D:){0,1}(\\s)*POLICY PRESCRIPTION AND EVALUATION', output.strip()):\n",
    "        return 'POLICY PRESCRIPTION AND EVALUATION'\n",
    "\n",
    "    elif re.search(r'(\\s*E:){0,1}(\\s)*LAW AND ORDER(, CRIME AND JUSTICE){0,1}', output.strip()):\n",
    "        return 'LAW AND ORDER, CRIME AND JUSTICE'\n",
    "\n",
    "    elif re.search(r'(\\s*F:){0,1}(\\s)*SECURITY AND DEFENSE', output.strip()):\n",
    "        return 'SECURITY AND DEFENSE'\n",
    "\n",
    "    elif re.search(r'(\\s*G:){0,1}(\\s)*HEALTH AND SAFETY', output.strip()):\n",
    "        return 'HEALTH AND SAFETY'\n",
    "\n",
    "    elif re.search(r'(\\s*H:){0,1}(\\s)*QUALITY OF LIFE|^\\s*H.|quality of life|H]', output.strip()):\n",
    "        return 'QUALITY OF LIFE'\n",
    "\n",
    "    elif re.search(r'(\\s*I:){0,1}(\\s)*(POLITICAL|POLICITAL|POLIT)', output.strip()):\n",
    "        return 'POLITICAL'\n",
    "\n",
    "    elif re.search(r'(\\s*J:){0,1}(\\s)*EXTERNAL REGULATION AND REPUTATION', output.strip()):\n",
    "        return 'EXTERNAL REGULATION AND REPUTATION'\n",
    "\n",
    "    elif re.search(r'(\\s*K:){0,1}(\\s)*OTHER|EDUCATION|does not seem to fit into|does not fit neatly into|None of the above|^\\s*Other\\s*$', output.strip()):\n",
    "        return 'OTHER'\n",
    "\n",
    "    elif output == np.nan or output == 'nan':\n",
    "        return \"NAN\"\n",
    "\n",
    "    else:\n",
    "        print(f'Weird value: {output.strip()}')\n",
    "        return \"NAN\""
   ]
  },
  {
   "cell_type": "code",
   "execution_count": null,
   "id": "a1a261f5",
   "metadata": {},
   "outputs": [],
   "source": [
    "def map_outputs_task_4(output):\n",
    "    if re.search(r'^(\\s)*IN FAVOR OF', output.strip()):\n",
    "        return 'IN FAVOR OF'\n",
    "\n",
    "    elif re.search(r'^(\\s)*AGAINST', output.strip()):\n",
    "        return 'AGAINST'\n",
    "\n",
    "    elif re.search(r'^(\\s)*NEUTRAL', output.strip()):\n",
    "        return 'NEUTRAL'\n",
    "    \n",
    "    elif re.search(r'IN FAVOR OF|IN FAV', output.strip()):\n",
    "        return 'IN FAVOR OF'\n",
    "\n",
    "    elif re.search(r'AGAINST', output.strip()):\n",
    "        return 'AGAINST'\n",
    "\n",
    "    elif re.search(r'NEUTRAL|(without|not) express(ing){0,1} approval or disapproval|^NEUT$', output.strip()):\n",
    "        return 'NEUTRAL'\n",
    "\n",
    "    elif output == np.nan or output == 'nan':\n",
    "        return \"NAN\"\n",
    "\n",
    "    else:\n",
    "        print(f'Weird value: {output.strip()}')\n",
    "        return \"NAN\""
   ]
  },
  {
   "cell_type": "code",
   "execution_count": null,
   "id": "c39859ae",
   "metadata": {},
   "outputs": [],
   "source": [
    "def map_outputs_task_5(output):\n",
    "    if re.search(r'^(the tweet is (about (the){0,1})){0,1}(\\s)*section 230', output.lower().strip()):\n",
    "        return 'Section 230'\n",
    "\n",
    "    elif re.search(r'^(the tweet is about (the){0,1}){0,1}(\\s)*trump ban', output.lower().strip()):\n",
    "        return 'Trump ban'\n",
    "\n",
    "    elif re.search(r'^(the tweet is about (the){0,1}){0,1}(\\s)*twitter support', output.lower().strip()):\n",
    "        return 'Twitter Support'\n",
    "\n",
    "    elif re.search(r'^(the tweet is about (the){0,1}){0,1}(\\s)*platform policies', output.lower().strip()):\n",
    "        return 'Platform Policies'\n",
    "\n",
    "    elif re.search(r'^(the tweet is about (the){0,1}){0,1}(\\s)*complaint', output.lower().strip()):\n",
    "        return 'Complaint'\n",
    "\n",
    "    elif re.search('^(the tweet is about (the){0,1}){0,1}(\\s)*other', output.lower().strip()):\n",
    "        return 'Other'\n",
    "    \n",
    "    elif re.search('OTHER|Therefore, it (should|can) be classified as \"Other.|Other\"',\n",
    "                   output.strip()):\n",
    "        return 'Other'\n",
    "    \n",
    "    elif re.search(r'SECTION 230|classified as A: Section 230|\"Section 230\"|A: Section 2', output.strip()):\n",
    "         return 'Section 230'\n",
    "\n",
    "    elif re.search(r'TRUMP BAN|Trump Ban|B: Trump ban|B Trump ban|B(\\s+|$)|B (Trump ban)', output.strip()):\n",
    "        return 'Trump ban'\n",
    "\n",
    "    elif re.search(r'TWITTER SUPPORT|classified as C \\(Twitter Support\\).', output.strip()):\n",
    "        return 'Twitter Support'\n",
    "\n",
    "    elif re.search(r'PLATFORM POLICIES|Platform Policies', output.strip()):\n",
    "        return 'Platform Policies'\n",
    "\n",
    "    elif re.search(r'COMPLAINT|E: Complaint|\"Complaints\"|E \\(Complaint\\)|E(\\s+|$)|classified as \\(E\\) Complaint', output.strip()):\n",
    "        return 'Complaint'\n",
    "\n",
    "    elif output == np.nan or output == 'nan':\n",
    "        return \"NAN\"\n",
    "\n",
    "    else:\n",
    "        print(f'Weird value: {output.strip()}')\n",
    "        return 'Other'"
   ]
  },
  {
   "cell_type": "code",
   "execution_count": null,
   "id": "c38a7102",
   "metadata": {},
   "outputs": [],
   "source": [
    "def map_outputs_task_6(output):\n",
    "    if re.search(r'^(\\s*A:){0,1}(\\s)*POLICY AND REGULATION', output.strip()):\n",
    "        return 'POLICY AND REGULATION'\n",
    "    \n",
    "    elif re.search(r'^(\\s*B:){0,1}(\\s)*MORALITY AND LAW', output.strip()):\n",
    "        return 'MORALITY AND LAW'\n",
    "    \n",
    "    elif re.search(r'^(\\s*C:){0,1}(\\s)*ECONOMICS', output.strip()):\n",
    "        return 'ECONOMICS'\n",
    "    \n",
    "    elif re.search(r'^(\\sD:){0,1}(\\s)*OTHER', output.strip()):\n",
    "        return 'OTHER'\n",
    "\n",
    "    elif re.search(r'(\\s*C:){0,1}(\\s)*ECONOM(Y|ICS)|^\\s*A', output.strip()):\n",
    "        return 'ECONOMICS'\n",
    "    \n",
    "    elif re.search(r'(\\s*C:){0,1}(\\s)*PUBLIC OPINION|^\\s*A', output.strip()):\n",
    "        return 'ECONOMICS'\n",
    "\n",
    "    elif re.search(r'(\\s*B:){0,1}(\\s)*MORALITY|^\\s*B(\\s+|$)', output.strip()):\n",
    "        return 'MORALITY AND LAW'\n",
    "\n",
    "    elif re.search(r'(\\s*B:){0,1}(\\s)*FAIRNESS AND EQUALITY', output.strip()):\n",
    "        return 'MORALITY AND LAW'\n",
    "\n",
    "    elif re.search(r'(\\s*A:){0,1}(\\s)*POLICY PRESCRIPTION AND EVALUATION|POLICY AND REGULATION', output.strip()):\n",
    "        return 'POLICY AND REGULATION'\n",
    "\n",
    "    elif re.search(r'(\\s*B:){0,1}(\\s)*LAW AND ORDER, CRIME AND JUSTICE', output.strip()):\n",
    "        return 'MORALITY AND LAW'\n",
    "    \n",
    "    elif re.search(r'(\\s*B:){0,1}(\\s)*CONSTITUTIONALITY AND JURISPRUDENCE', output.strip()):\n",
    "        return 'MORALITY AND LAW'\n",
    "\n",
    "    elif re.search(r'(\\s*C:){0,1}(\\s)*SECURITY AND DEFENSE', output.strip()):\n",
    "        return 'CAPACITY AND RESOURCES'\n",
    "\n",
    "    elif re.search(r'(\\s*B:){0,1}(\\s)*HEALTH AND SAFETY', output.strip()):\n",
    "        return 'MORALITY AND LAW'\n",
    "\n",
    "    elif re.search(r'(\\sC:){0,1}(\\s)*QUALITY OF LIFE', output.strip()):\n",
    "        return 'ECONOMICS'\n",
    "    \n",
    "    elif re.search(r'(\\sC:){0,1}(\\s)*CAPACITY AND RESOURCES', output.strip()):\n",
    "        return 'ECONOMICS'\n",
    "\n",
    "    elif re.search(r'(\\s*A:){0,1}(\\s)*(POLITICAL|POLICITAL)', output.strip()):\n",
    "        return 'POLICY AND REGULATION'\n",
    "\n",
    "    elif re.search(r'(\\s*A:){0,1}(\\s)*EXTERNAL REGULATION AND REPUTATION', output.strip()):\n",
    "        return 'POLICY AND REGULATION'\n",
    "\n",
    "    elif re.search(r'(\\s*D:){0,1}(\\s)*OTHER|EDUCATION|^E: SOCIAL MEDIA', output.strip()):\n",
    "        return 'OTHER'\n",
    "\n",
    "    elif output == np.nan or output == 'nan':\n",
    "        return \"NAN\"\n",
    "\n",
    "    else:\n",
    "        print(f'Weird value: {output.strip()}')\n",
    "        return \"NAN\""
   ]
  },
  {
   "cell_type": "code",
   "execution_count": 6,
   "id": "c94b0777afc2902d",
   "metadata": {
    "ExecuteTime": {
     "end_time": "2023-11-26T11:16:23.262108009Z",
     "start_time": "2023-11-26T11:16:23.208176033Z"
    },
    "collapsed": false
   },
   "outputs": [],
   "source": [
    "map_to_task_label_processing_fn = {\n",
    "    1: map_outputs_task_1,\n",
    "    2: map_outputs_task_2,\n",
    "    3: map_outputs_task_3,\n",
    "    4: map_outputs_task_4,\n",
    "    5: map_outputs_task_5,\n",
    "    6: map_outputs_task_6\n",
    "    #YOU MIGHT NEED TO ADD YOUR TASK HERE\n",
    "}"
   ]
  },
  {
   "cell_type": "code",
   "execution_count": null,
   "id": "6533361c",
   "metadata": {},
   "outputs": [],
   "source": [
    "process_output = {\n",
    "    \"meta\": process_output_meta,\n",
    "    \"oasst\": process_output_oasst\n",
    "    #YOU MIGHT NEED TO ADD YOUR TASK HERE\n",
    "}"
   ]
  },
  {
   "cell_type": "code",
   "execution_count": 7,
   "id": "baed957b747c6408",
   "metadata": {
    "ExecuteTime": {
     "end_time": "2023-11-26T11:16:23.698148303Z",
     "start_time": "2023-11-26T11:16:23.660657787Z"
    },
    "collapsed": false,
    "tags": []
   },
   "outputs": [],
   "source": [
    "def process_output_meta(output_str, task_num):\n",
    "    # Remove the prompt: FOR META-LLAMA MODELS\n",
    "    output_str = ' '.join(output_str.split('[/INST] ')[-1:])\n",
    "\n",
    "    # process accordin to the task_num\n",
    "    return map_to_task_label_processing_fn[task_num](output_str)"
   ]
  },
  {
   "cell_type": "code",
   "execution_count": null,
   "id": "e0add43c",
   "metadata": {},
   "outputs": [],
   "source": [
    "def process_output_oasst(output_str, task_num):\n",
    "    # Remove the prompt\n",
    "    output_str = ' '.join(output_str.split('<|endoftext|>')[1:])\n",
    "    \n",
    "    # process accordin to the task_num\n",
    "    return map_to_task_label_processing_fn[task_num](output_str)"
   ]
  },
  {
   "cell_type": "markdown",
   "id": "f15ce9a6",
   "metadata": {},
   "source": [
    "### Set Up Arguments and Data"
   ]
  },
  {
   "cell_type": "markdown",
   "id": "a14b8e78",
   "metadata": {},
   "source": [
    "Here, you define the values for the dataset that you are loading:"
   ]
  },
  {
   "cell_type": "code",
   "execution_count": null,
   "id": "1de20923",
   "metadata": {},
   "outputs": [],
   "source": [
    "#Configuration variables\n",
    "\n",
    "#Name of the file to compute accuracy for\n",
    "prediction_file_name = \"data/predictions/chatgpt/ds_1_t_1_file.csv\"\n",
    "\n",
    "#Path to the dataset-task mappings file\n",
    "dataset_task_mappings_fp = os.path.normpath(os.path.join('..', '..', 'dataset_task_mappings.csv'))\n",
    "\n",
    "# Type of task to run inference on\n",
    "task = 1  # Choices: [1,2,3,4,5,6]\n",
    "\n",
    "# Dataset to run inference on\n",
    "dataset = 1  # \n",
    "\n",
    "# Size of the sample to generate\n",
    "sample_size = '250'  # Enter 0 for zero-shot predictions\n",
    "\n",
    "# Zero-shot\n",
    "zero_shot = False\n",
    "\n",
    "#Meta (set False for Oasst)\n",
    "meta_llama = \"Meta\""
   ]
  },
  {
   "cell_type": "markdown",
   "id": "9139db12b6e3f8e5",
   "metadata": {},
   "source": [
    "## Main Implementation"
   ]
  },
  {
   "cell_type": "code",
   "execution_count": null,
   "id": "6f4d913e",
   "metadata": {},
   "outputs": [],
   "source": [
    "#load the file with predictions\n",
    "df = pd.read_csv(prediction_file_name)"
   ]
  },
  {
   "cell_type": "code",
   "execution_count": null,
   "id": "3bbb7785b19d8bf1",
   "metadata": {
    "ExecuteTime": {
     "end_time": "2023-11-26T11:16:37.161893907Z",
     "start_time": "2023-11-26T11:16:26.412475094Z"
    },
    "collapsed": false,
    "tags": []
   },
   "outputs": [],
   "source": [
    "dataset_task_mappings_fp = os.path.join('..', '..', 'dataset_task_mappings.csv')\n",
    "\n",
    "# Get the expected labelset\n",
    "dataset_idx, dataset_task_mappings = load_dataset_task_prompt_mappings(\n",
    "    dataset_num=dataset, task_num=task, dataset_task_mappings_fp=dataset_task_mappings_fp)\n",
    "label_column = dataset_task_mappings.loc[dataset_idx, \"label_column\"]\n",
    "labelset = dataset_task_mappings.loc[dataset_idx, \"labelset_fullword\"].split(\"; \")\n",
    "labelset = [label.strip() for label in labelset]\n",
    "labelset += [label.upper() for label in labelset] "
   ]
  },
  {
   "cell_type": "code",
   "execution_count": null,
   "id": "93f76f18",
   "metadata": {},
   "outputs": [],
   "source": [
    "# Get predictions\n",
    "y_pred = df.prediction_ds.map(lambda x: process_output[meta_llama](x, task))\n",
    "\n",
    "# Get ground truth in same format\n",
    "y_true = df[label_column].map(lambda label: map_label_to_completion(\n",
    "    label=label, task_num=task, full_label=True))\n",
    "assert y_true.map(lambda pred: pred not in labelset).sum() == 0, 'Ground truth not in expected labelset'\n",
    "\n",
    "# Get accuracy\n",
    "labels = labelset\n",
    "display_labels = labelset\n",
    "cm_plot, classification_report, metrics = plot_count_and_normalized_confusion_matrix(\n",
    "    y_true, y_pred, display_labels, labels, xticks_rotation='vertical')\n",
    "\n",
    "# Get accuracy\n",
    "print({\n",
    "    'sample_size': sample_size,\n",
    "    'accuracy': metrics['accuracy'],\n",
    "    'f1-macro': metrics['f1'],\n",
    "    'precision': metrics['precision'],\n",
    "    'recall': metrics['recall']\n",
    "})"
   ]
  }
 ],
 "metadata": {
  "kernelspec": {
   "display_name": "Python 3 (ipykernel)",
   "language": "python",
   "name": "python3"
  },
  "language_info": {
   "codemirror_mode": {
    "name": "ipython",
    "version": 3
   },
   "file_extension": ".py",
   "mimetype": "text/x-python",
   "name": "python",
   "nbconvert_exporter": "python",
   "pygments_lexer": "ipython3",
   "version": "3.11.7"
  }
 },
 "nbformat": 4,
 "nbformat_minor": 5
}
